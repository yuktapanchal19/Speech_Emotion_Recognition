{
  "nbformat": 4,
  "nbformat_minor": 0,
  "metadata": {
    "colab": {
      "provenance": [],
      "authorship_tag": "ABX9TyP499bt3wOvowHG+l1SQF4T",
      "include_colab_link": true
    },
    "kernelspec": {
      "name": "python3",
      "display_name": "Python 3"
    },
    "language_info": {
      "name": "python"
    }
  },
  "cells": [
    {
      "cell_type": "markdown",
      "metadata": {
        "id": "view-in-github",
        "colab_type": "text"
      },
      "source": [
        "<a href=\"https://colab.research.google.com/github/yuktapanchal19/Speech_Emotion_Recognition/blob/main/speech_emotion_final.ipynb\" target=\"_parent\"><img src=\"https://colab.research.google.com/assets/colab-badge.svg\" alt=\"Open In Colab\"/></a>"
      ]
    },
    {
      "cell_type": "code",
      "source": [
        "!pip install streamlit pyngrok librosa soundfile scikit-learn xgboost --quiet"
      ],
      "metadata": {
        "id": "kxSahcl3Pvda"
      },
      "execution_count": 20,
      "outputs": []
    },
    {
      "cell_type": "code",
      "source": [
        "!ngrok config add-authtoken 2zXkpL2MEGRfTRm9P494EE8lgbe_6pqofhDqAbHnRzgeBG7ch"
      ],
      "metadata": {
        "colab": {
          "base_uri": "https://localhost:8080/"
        },
        "id": "rsVLRzhccjuZ",
        "outputId": "2e6367d0-cabf-4f1f-8811-47b3959b4e16"
      },
      "execution_count": 21,
      "outputs": [
        {
          "output_type": "stream",
          "name": "stdout",
          "text": [
            "Authtoken saved to configuration file: /root/.config/ngrok/ngrok.yml\n"
          ]
        }
      ]
    },
    {
      "cell_type": "code",
      "source": [
        "from google.colab import drive\n",
        "drive.mount('/content/drive')\n",
        "\n",
        "!pip install streamlit pyngrok librosa soundfile scikit-learn xgboost seaborn --quiet\n",
        "\n",
        "import os\n",
        "import glob\n",
        "import librosa\n",
        "import soundfile as sf\n",
        "import numpy as np\n",
        "import matplotlib.pyplot as plt\n",
        "import seaborn as sns\n",
        "import joblib\n",
        "\n",
        "from sklearn.model_selection import train_test_split\n",
        "from sklearn.preprocessing import StandardScaler, LabelEncoder\n",
        "from sklearn.decomposition import PCA\n",
        "from xgboost import XGBClassifier\n",
        "from sklearn.metrics import accuracy_score, classification_report, confusion_matrix\n",
        "\n",
        "# Emotions in the RAVDESS dataset\n",
        "emotions = {\n",
        "    '01': 'neutral',\n",
        "    '02': 'calm',\n",
        "    '03': 'happy',\n",
        "    '04': 'sad',\n",
        "    '05': 'angry',\n",
        "    '06': 'fearful',\n",
        "    '07': 'disgust',\n",
        "    '08': 'surprised'\n",
        "}\n",
        "\n",
        "observed_emotions = ['02', '03', '06', '07']  # calm, happy, fearful, disgust\n",
        "\n",
        "def extract_feature(file_name, mfcc=True, chroma=True, mel=True, spectral_contrast=True, tonnetz=True):\n",
        "    with sf.SoundFile(file_name) as sound_file:\n",
        "        X = sound_file.read(dtype=\"float32\")\n",
        "        sample_rate = sound_file.samplerate\n",
        "        result = np.array([])\n",
        "\n",
        "        if mfcc:\n",
        "            mfccs = np.mean(librosa.feature.mfcc(y=X, sr=sample_rate, n_mfcc=60).T, axis=0)\n",
        "            result = np.hstack((result, mfccs))\n",
        "\n",
        "        if chroma:\n",
        "            stft = np.abs(librosa.stft(X))\n",
        "            chroma_feature = np.mean(librosa.feature.chroma_stft(S=stft, sr=sample_rate).T, axis=0)\n",
        "            result = np.hstack((result, chroma_feature))\n",
        "\n",
        "        if mel:\n",
        "            mel_feature = np.mean(librosa.feature.melspectrogram(y=X, sr=sample_rate).T, axis=0)\n",
        "            result = np.hstack((result, mel_feature))\n",
        "\n",
        "        if spectral_contrast:\n",
        "            spectral_contrast_feature = np.mean(librosa.feature.spectral_contrast(S=stft, sr=sample_rate).T, axis=0)\n",
        "            result = np.hstack((result, spectral_contrast_feature))\n",
        "\n",
        "        if tonnetz:\n",
        "            tonnetz_feature = np.mean(librosa.feature.tonnetz(y=librosa.effects.harmonic(X), sr=sample_rate).T, axis=0)\n",
        "            result = np.hstack((result, tonnetz_feature))\n",
        "\n",
        "    return result\n",
        "\n",
        "def load_data(test_size=0.2):\n",
        "    x, y = [], []\n",
        "    for file in glob.glob(\"/content/drive/MyDrive/Ravdess data/Actor_*/*.wav\"):\n",
        "        file_name = os.path.basename(file)\n",
        "        emotion_code = file_name.split(\"-\")[2]\n",
        "        if emotion_code not in observed_emotions:\n",
        "            continue\n",
        "        features = extract_feature(file)\n",
        "        x.append(features)\n",
        "        y.append(emotions[emotion_code])\n",
        "    return train_test_split(np.array(x), y, test_size=test_size, random_state=9)\n",
        "\n",
        "\n",
        "X_train, X_test, y_train, y_test = load_data()\n",
        "\n",
        "# Encode labels to integers\n",
        "label_encoder = LabelEncoder()\n",
        "y_train_encoded = label_encoder.fit_transform(y_train)\n",
        "y_test_encoded = label_encoder.transform(y_test)\n",
        "\n",
        "scaler = StandardScaler()\n",
        "X_train_scaled = scaler.fit_transform(X_train)\n",
        "X_test_scaled = scaler.transform(X_test)\n",
        "\n",
        "pca = PCA(n_components=0.95)\n",
        "X_train_pca = pca.fit_transform(X_train_scaled)\n",
        "X_test_pca = pca.transform(X_test_scaled)\n",
        "\n",
        "print(\"X_train_pca shape:\", X_train_pca.shape)\n",
        "print(\"y_train_encoded shape:\", y_train_encoded.shape)\n",
        "\n",
        "model = XGBClassifier()\n",
        "model.fit(X_train_pca, y_train_encoded)\n",
        "\n",
        "y_pred = model.predict(X_test_pca)\n",
        "accuracy = accuracy_score(y_test_encoded, y_pred)\n",
        "print(f\"\\nModel Accuracy: {accuracy:.2%}\")\n",
        "\n",
        "print(\"\\nClassification Report:\")\n",
        "print(classification_report(y_test_encoded, y_pred, target_names=label_encoder.classes_))\n",
        "\n",
        "cm = confusion_matrix(y_test_encoded, y_pred)\n",
        "labels = label_encoder.classes_\n",
        "\n",
        "plt.figure(figsize=(8, 6))\n",
        "sns.heatmap(cm, annot=True, fmt='d', cmap='Blues', xticklabels=labels, yticklabels=labels)\n",
        "plt.xlabel(\"Predicted\")\n",
        "plt.ylabel(\"Actual\")\n",
        "plt.title(\"Confusion Matrix\")\n",
        "plt.show()\n",
        "\n",
        "joblib.dump(model, \"xgb_model.pkl\")\n",
        "joblib.dump(scaler, \"scaler.pkl\")\n",
        "joblib.dump(pca, \"pca.pkl\")\n",
        "joblib.dump(label_encoder, \"label_encoder.pkl\")\n",
        "\n",
        "with open(\"model_accuracy.txt\", \"w\") as f:\n",
        "    f.write(f\"{accuracy:.2%}\")\n",
        "\n",
        "joblib.dump(model, \"xgb_model.pkl\")\n",
        "joblib.dump(scaler, \"scaler.pkl\")\n",
        "joblib.dump(pca, \"pca.pkl\")\n"
      ],
      "metadata": {
        "colab": {
          "base_uri": "https://localhost:8080/",
          "height": 914
        },
        "id": "BaFRwdTnwsiJ",
        "outputId": "79302d21-52bb-4b6f-ff4a-906f194922f5"
      },
      "execution_count": 29,
      "outputs": [
        {
          "output_type": "stream",
          "name": "stdout",
          "text": [
            "Drive already mounted at /content/drive; to attempt to forcibly remount, call drive.mount(\"/content/drive\", force_remount=True).\n",
            "✅ X_train_pca shape: (614, 64)\n",
            "✅ y_train_encoded shape: (614,)\n",
            "\n",
            "✅ Model Accuracy: 70.13%\n",
            "\n",
            "📊 Classification Report:\n",
            "              precision    recall  f1-score   support\n",
            "\n",
            "        calm       0.86      0.84      0.85        43\n",
            "     disgust       0.59      0.81      0.68        37\n",
            "     fearful       0.75      0.65      0.70        37\n",
            "       happy       0.62      0.49      0.55        37\n",
            "\n",
            "    accuracy                           0.70       154\n",
            "   macro avg       0.70      0.70      0.69       154\n",
            "weighted avg       0.71      0.70      0.70       154\n",
            "\n"
          ]
        },
        {
          "output_type": "display_data",
          "data": {
            "text/plain": [
              "<Figure size 800x600 with 2 Axes>"
            ],
            "image/png": "[encoded data removed]"
          },
          "metadata": {}
        },
        {
          "output_type": "execute_result",
          "data": {
            "text/plain": [
              "['pca.pkl']"
            ]
          },
          "metadata": {},
          "execution_count": 29
        }
      ]
    },
    {
      "cell_type": "code",
      "source": [
        "import joblib\n",
        "\n",
        "joblib.dump(model, \"xgb_model.pkl\")\n",
        "joblib.dump(scaler, \"scaler.pkl\")\n",
        "joblib.dump(pca, \"pca.pkl\")\n"
      ],
      "metadata": {
        "colab": {
          "base_uri": "https://localhost:8080/"
        },
        "id": "08AsHBzjlMWE",
        "outputId": "16c6ee5f-08f9-4d4a-b728-8d5e9c880f02"
      },
      "execution_count": 22,
      "outputs": [
        {
          "output_type": "execute_result",
          "data": {
            "text/plain": [
              "['pca.pkl']"
            ]
          },
          "metadata": {},
          "execution_count": 22
        }
      ]
    },
    {
      "cell_type": "code",
      "source": [
        "%%writefile streamlit_app.py\n",
        "import streamlit as st\n",
        "import numpy as np\n",
        "import librosa\n",
        "import soundfile as sf\n",
        "import joblib\n",
        "\n",
        "model = joblib.load(\"xgb_model.pkl\")\n",
        "scaler = joblib.load(\"scaler.pkl\")\n",
        "pca = joblib.load(\"pca.pkl\")\n",
        "\n",
        "def extract_audio_features(file_path):\n",
        "    with sf.SoundFile(file_path) as sound_file:\n",
        "        signal = sound_file.read(dtype=\"float32\")\n",
        "        sample_rate = sound_file.samplerate\n",
        "        features = np.array([])\n",
        "\n",
        "        # MFCC\n",
        "        mfcc = np.mean(librosa.feature.mfcc(y=signal, sr=sample_rate, n_mfcc=60).T, axis=0)\n",
        "        features = np.hstack((features, mfcc))\n",
        "\n",
        "        # Chroma\n",
        "        stft = np.abs(librosa.stft(signal))\n",
        "        chroma = np.mean(librosa.feature.chroma_stft(S=stft, sr=sample_rate).T, axis=0)\n",
        "        features = np.hstack((features, chroma))\n",
        "\n",
        "        # Mel\n",
        "        mel = np.mean(librosa.feature.melspectrogram(y=signal, sr=sample_rate).T, axis=0)\n",
        "        features = np.hstack((features, mel))\n",
        "\n",
        "        # Spectral Contrast\n",
        "        contrast = np.mean(librosa.feature.spectral_contrast(S=stft, sr=sample_rate).T, axis=0)\n",
        "        features = np.hstack((features, contrast))\n",
        "\n",
        "        # Tonnetz\n",
        "        tonnetz = np.mean(librosa.feature.tonnetz(y=librosa.effects.harmonic(signal), sr=sample_rate).T, axis=0)\n",
        "        features = np.hstack((features, tonnetz))\n",
        "\n",
        "    return features.reshape(1, -1)\n",
        "\n",
        "st.title(\" Speech Emotion Recognition App\")\n",
        "st.write(\"Upload a `.wav` file and detect the speaker's emotion.\")\n",
        "\n",
        "uploaded_file = st.file_uploader(\"Choose a .wav audio file\", type=[\"wav\"])\n",
        "\n",
        "if uploaded_file is not None:\n",
        "    st.audio(uploaded_file, format=\"audio/wav\")\n",
        "\n",
        "    with open(\"temp.wav\", \"wb\") as f:\n",
        "        f.write(uploaded_file.read())\n",
        "\n",
        "    features = extract_audio_features(\"temp.wav\")\n",
        "    scaled = scaler.transform(features)\n",
        "    reduced = pca.transform(scaled)\n",
        "\n",
        "    prediction = model.predict(reduced)[0]\n",
        "    st.success(f\"Predicted Emotion: **{prediction.upper()}**\")\n"
      ],
      "metadata": {
        "colab": {
          "base_uri": "https://localhost:8080/"
        },
        "id": "ZIJ6Z-xabvgo",
        "outputId": "f208e758-d21b-4a5d-81bc-951b3ebcc506"
      },
      "execution_count": 23,
      "outputs": [
        {
          "output_type": "stream",
          "name": "stdout",
          "text": [
            "Overwriting streamlit_app.py\n"
          ]
        }
      ]
    },
    {
      "cell_type": "code",
      "source": [
        "from pyngrok import ngrok\n",
        "import time\n",
        "\n",
        "!pkill streamlit\n",
        "\n",
        "get_ipython().system_raw(\"streamlit run streamlit_app.py &\")\n",
        "\n",
        "time.sleep(5)\n",
        "\n",
        "public_url = ngrok.connect(\"http://localhost:8501\")\n",
        "print(\" Your Streamlit app is live at:\", public_url)\n"
      ],
      "metadata": {
        "colab": {
          "base_uri": "https://localhost:8080/"
        },
        "id": "V0PscoSclhps",
        "outputId": "413239aa-c938-4a30-ab96-718e212350c2"
      },
      "execution_count": 24,
      "outputs": [
        {
          "output_type": "stream",
          "name": "stdout",
          "text": [
            "🚀 Your Streamlit app is live at: NgrokTunnel: \"https://0ec7-35-247-30-176.ngrok-free.app\" -> \"http://localhost:8501\"\n"
          ]
        }
      ]
    },
    {
      "cell_type": "markdown",
      "source": [],
      "metadata": {
        "id": "Mo2MHXRnwCoW"
      }
    }
  ]
}
